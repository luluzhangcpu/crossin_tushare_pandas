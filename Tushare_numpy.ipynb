{
 "cells": [
  {
   "cell_type": "code",
   "execution_count": 1,
   "metadata": {},
   "outputs": [],
   "source": [
    "from matplotlib.font_manager import FontProperties\n",
    "import matplotlib.pyplot as plt\n",
    "import numpy as np"
   ]
  },
  {
   "cell_type": "code",
   "execution_count": 2,
   "metadata": {},
   "outputs": [
    {
     "name": "stdout",
     "output_type": "stream",
     "text": [
      "[[  1   0  -1 ... -26 -25 -26]\n",
      " [  1   2   1 ...  12  13  12]\n",
      " [  1   2   3 ...   2   3   4]\n",
      " ...\n",
      " [ -1   0   1 ...  16  17  18]\n",
      " [  1   0  -1 ...  54  55  56]\n",
      " [  1   2   1 ... -32 -33 -34]]\n"
     ]
    }
   ],
   "source": [
    "walk_times = 5000\n",
    "number_of_steps = 1000\n",
    "each_step = np.random.randint(0,2,size=(walk_times,number_of_steps))\n",
    "each_step[each_step > 0] = 1\n",
    "each_step[each_step == 0] = -1\n",
    "walk_path = each_step.cumsum(axis=1)\n",
    "print(walk_path)"
   ]
  },
  {
   "cell_type": "code",
   "execution_count": 3,
   "metadata": {},
   "outputs": [
    {
     "name": "stdout",
     "output_type": "stream",
     "text": [
      "醉汉走出的最远距离:123\n"
     ]
    }
   ],
   "source": [
    "max_distance = np.abs(walk_path).max() # 构建离出发点最远的距离\n",
    "print('醉汉走出的最远距离:%d' % max_distance)"
   ]
  },
  {
   "cell_type": "code",
   "execution_count": 4,
   "metadata": {},
   "outputs": [
    {
     "name": "stdout",
     "output_type": "stream",
     "text": [
      "醉汉走出的最远距离平均值为 : 39.629\n"
     ]
    }
   ],
   "source": [
    "average_max_distance = np.abs(walk_path).max(axis=1).mean() # 求各次模拟中走出的最远距离的均值\n",
    "print('醉汉走出的最远距离平均值为 : %.3f' % average_max_distance)"
   ]
  },
  {
   "cell_type": "code",
   "execution_count": 5,
   "metadata": {},
   "outputs": [
    {
     "name": "stdout",
     "output_type": "stream",
     "text": [
      "醉汉最终位置距离出发点平均距离 : 25.710\n"
     ]
    }
   ],
   "source": [
    "destination_distance = np.abs(walk_path[:,-1]).mean() # 求解最终位置的平均距离\n",
    "print('醉汉最终位置距离出发点平均距离 : %.3f' % destination_distance)"
   ]
  },
  {
   "cell_type": "code",
   "execution_count": 6,
   "metadata": {},
   "outputs": [
    {
     "name": "stdout",
     "output_type": "stream",
     "text": [
      "醉汉第一次到达距离出发点为10处花费的时间单位均值: 167.442\n"
     ]
    }
   ],
   "source": [
    "# 对以下每一行，找到 True，即 1所在位置\n",
    "time_to_10 = (np.abs(walk_path >= 10)).argmax(axis=1).mean() # 求解第一次到达距离原点10的平均时间\n",
    "print('醉汉第一次到达距离出发点为10处花费的时间单位均值: %.3f' % time_to_10)"
   ]
  },
  {
   "cell_type": "code",
   "execution_count": 7,
   "metadata": {},
   "outputs": [
    {
     "name": "stdout",
     "output_type": "stream",
     "text": [
      "醉汉平均经过出发点的次数: 24.313\n"
     ]
    }
   ],
   "source": [
    "time_to_origin = np.where(walk_path == 0,1,0).sum(axis=1).mean() # 求解穿过出发点对平均次数\n",
    "print('醉汉平均经过出发点的次数: %.3f' % time_to_origin)"
   ]
  },
  {
   "cell_type": "code",
   "execution_count": 8,
   "metadata": {},
   "outputs": [
    {
     "name": "stdout",
     "output_type": "stream",
     "text": [
      "醉汉平均改变方向的次数: 499.957\n"
     ]
    }
   ],
   "source": [
    "# 求解改变方向的平均次数\n",
    "change_count = []\n",
    "for i in range(len(each_step)):\n",
    "    singe_count = 0\n",
    "    for j in range(1,len(each_step[i])):\n",
    "        if each_step[i,j] == each_step[i,j-1]:\n",
    "            singe_count += 1\n",
    "    change_count.append(singe_count)\n",
    "change_count = np.array(change_count)\n",
    "change_count_average = change_count.mean()\n",
    "print('醉汉平均改变方向的次数: %.3f' % change_count_average)"
   ]
  },
  {
   "cell_type": "code",
   "execution_count": 9,
   "metadata": {},
   "outputs": [
    {
     "name": "stdout",
     "output_type": "stream",
     "text": [
      "3416\n",
      "醉汉在 3416 次中到达过，距离出发点大于等于 30处\n"
     ]
    }
   ],
   "source": [
    "# 求解5000次中，有多少次模拟，超过30的记录\n",
    "hit_30 = (np.abs(walk_path) >= 30).any(1)\n",
    "hit_30_count = hit_30.sum()\n",
    "print(hit_30_count)\n",
    "print('醉汉在 %d 次中到达过，距离出发点大于等于 30处' % hit_30_count)"
   ]
  },
  {
   "cell_type": "code",
   "execution_count": 10,
   "metadata": {},
   "outputs": [
    {
     "data": {
      "image/png": "[encoded data removed]",
      "text/plain": [
       "<Figure size 432x288 with 1 Axes>"
      ]
     },
     "metadata": {
      "needs_background": "light"
     },
     "output_type": "display_data"
    }
   ],
   "source": [
    "# 模拟第一个用户的行走路径\n",
    "plt.figure(1)\n",
    "font = FontProperties(fname='/Users/apple/Desktop/Lantinghei.ttc',size=10)\n",
    "plt.plot(np.arange(1,1001,dtype=int),walk_path[0],color = 'blue',linestyle = '-',label = 'walk_path')\n",
    "plt.legend(loc='upper left',prop=font)\n",
    "plt.xlabel(u'步数',fontproperties = font)\n",
    "plt.ylabel(u'距离',fontproperties = font)\n",
    "plt.show()"
   ]
  },
  {
   "cell_type": "code",
   "execution_count": null,
   "metadata": {},
   "outputs": [],
   "source": []
  }
 ],
 "metadata": {
  "kernelspec": {
   "display_name": "Python 3",
   "language": "python",
   "name": "python3"
  },
  "language_info": {
   "codemirror_mode": {
    "name": "ipython",
    "version": 3
   },
   "file_extension": ".py",
   "mimetype": "text/x-python",
   "name": "python",
   "nbconvert_exporter": "python",
   "pygments_lexer": "ipython3",
   "version": "3.7.6"
  }
 },
 "nbformat": 4,
 "nbformat_minor": 4
}
