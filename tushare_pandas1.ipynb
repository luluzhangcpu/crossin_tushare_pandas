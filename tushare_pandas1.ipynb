{
 "cells": [
  {
   "cell_type": "code",
   "execution_count": 1,
   "metadata": {},
   "outputs": [],
   "source": [
    "import numpy as np\n",
    "import pandas as pd"
   ]
  },
  {
   "cell_type": "code",
   "execution_count": 2,
   "metadata": {},
   "outputs": [],
   "source": [
    "name1 = np.loadtxt('/Users/apple/Desktop/analysis-master/Pandas_Introduction/score/Data/name.txt',\\\n",
    "                   delimiter='\\n',dtype='str')\n",
    "score1 = np.loadtxt('/Users/apple/Desktop/analysis-master/Pandas_Introduction/score/Data/score1.txt',\\\n",
    "                    delimiter='\\n',dtype='int')\n",
    "score2 = np.loadtxt('/Users/apple/Desktop/analysis-master/Pandas_Introduction/score/Data/score2.txt',\\\n",
    "                    delimiter='\\n',dtype='int')\n",
    "score3 = np.loadtxt('/Users/apple/Desktop/analysis-master/Pandas_Introduction/score/Data/score3.txt',\\\n",
    "                    delimiter='\\n',dtype='int')"
   ]
  },
  {
   "cell_type": "code",
   "execution_count": 3,
   "metadata": {},
   "outputs": [
    {
     "name": "stdout",
     "output_type": "stream",
     "text": [
      "['Allen' 'Ben' 'Bob' 'Chris' 'Charles' 'David' 'Dennis' 'Edward' 'Eric'\n",
      " 'George' 'Hellen' 'Henry' 'Jack' 'Jerry' 'Joe' 'Johnson' 'Kevin'\n",
      " 'Leonard' 'Mike' 'Paul' 'Roy' 'Sam' 'Tom' 'Tyler' 'William']\n",
      "[57 69 81 64 58 90 65 81 77 92 98 74 73 64 85 87 61 51 91 95 60 98 81 80\n",
      " 82]\n",
      "[63 74 88 89 64 91 78 79 99 61 62 91 89 77 83 55 73 68 67 67 70 89 55 79\n",
      " 93]\n",
      "[87 88 77 91 75 84 53 55 62 55 91 94 79 62 74 78 85 91 53 65 93 84 77 54\n",
      " 50]\n"
     ]
    }
   ],
   "source": [
    "print(name1)\n",
    "print(score1)\n",
    "print(score2)\n",
    "print(score3)"
   ]
  },
  {
   "cell_type": "code",
   "execution_count": 4,
   "metadata": {},
   "outputs": [],
   "source": [
    "score1 = pd.Series(score1,index=name1)\n",
    "score2 = pd.Series(score2,index=name1)\n",
    "score3 = pd.Series(score3,index=name1)"
   ]
  },
  {
   "cell_type": "code",
   "execution_count": 5,
   "metadata": {},
   "outputs": [
    {
     "name": "stdout",
     "output_type": "stream",
     "text": [
      "Allen      57\n",
      "Ben        69\n",
      "Bob        81\n",
      "Chris      64\n",
      "Charles    58\n",
      "David      90\n",
      "Dennis     65\n",
      "Edward     81\n",
      "Eric       77\n",
      "George     92\n",
      "Hellen     98\n",
      "Henry      74\n",
      "Jack       73\n",
      "Jerry      64\n",
      "Joe        85\n",
      "Johnson    87\n",
      "Kevin      61\n",
      "Leonard    51\n",
      "Mike       91\n",
      "Paul       95\n",
      "Roy        60\n",
      "Sam        98\n",
      "Tom        81\n",
      "Tyler      80\n",
      "William    82\n",
      "dtype: int64\n",
      "Allen      63\n",
      "Ben        74\n",
      "Bob        88\n",
      "Chris      89\n",
      "Charles    64\n",
      "David      91\n",
      "Dennis     78\n",
      "Edward     79\n",
      "Eric       99\n",
      "George     61\n",
      "Hellen     62\n",
      "Henry      91\n",
      "Jack       89\n",
      "Jerry      77\n",
      "Joe        83\n",
      "Johnson    55\n",
      "Kevin      73\n",
      "Leonard    68\n",
      "Mike       67\n",
      "Paul       67\n",
      "Roy        70\n",
      "Sam        89\n",
      "Tom        55\n",
      "Tyler      79\n",
      "William    93\n",
      "dtype: int64\n",
      "Allen      87\n",
      "Ben        88\n",
      "Bob        77\n",
      "Chris      91\n",
      "Charles    75\n",
      "David      84\n",
      "Dennis     53\n",
      "Edward     55\n",
      "Eric       62\n",
      "George     55\n",
      "Hellen     91\n",
      "Henry      94\n",
      "Jack       79\n",
      "Jerry      62\n",
      "Joe        74\n",
      "Johnson    78\n",
      "Kevin      85\n",
      "Leonard    91\n",
      "Mike       53\n",
      "Paul       65\n",
      "Roy        93\n",
      "Sam        84\n",
      "Tom        77\n",
      "Tyler      54\n",
      "William    50\n",
      "dtype: int64\n"
     ]
    }
   ],
   "source": [
    "print(score1)\n",
    "print(score2)\n",
    "print(score3)"
   ]
  },
  {
   "cell_type": "code",
   "execution_count": 6,
   "metadata": {},
   "outputs": [
    {
     "name": "stdout",
     "output_type": "stream",
     "text": [
      "[0, 60, 70, 80, 90, 100]\n"
     ]
    }
   ],
   "source": [
    "bins = [0] + list(range(60,101,10))\n",
    "print(bins)"
   ]
  },
  {
   "cell_type": "code",
   "execution_count": 7,
   "metadata": {},
   "outputs": [
    {
     "name": "stdout",
     "output_type": "stream",
     "text": [
      "[80, 90)     7\n",
      "[90, 100)    6\n",
      "[60, 70)     6\n",
      "[70, 80)     3\n",
      "[0, 60)      3\n",
      "dtype: int64\n"
     ]
    }
   ],
   "source": [
    "cuts1 = pd.cut(score1,bins,right=False)\n",
    "print(pd.value_counts(cuts1))"
   ]
  },
  {
   "cell_type": "code",
   "execution_count": 8,
   "metadata": {},
   "outputs": [
    {
     "name": "stdout",
     "output_type": "stream",
     "text": [
      "[70, 80)     7\n",
      "[60, 70)     7\n",
      "[80, 90)     5\n",
      "[90, 100)    4\n",
      "[0, 60)      2\n",
      "dtype: int64\n"
     ]
    }
   ],
   "source": [
    "cuts2 = pd.cut(score2,bins,right=False)\n",
    "print(pd.value_counts(cuts2))"
   ]
  },
  {
   "cell_type": "code",
   "execution_count": 9,
   "metadata": {},
   "outputs": [
    {
     "name": "stdout",
     "output_type": "stream",
     "text": [
      "[70, 80)     6\n",
      "[0, 60)      6\n",
      "[90, 100)    5\n",
      "[80, 90)     5\n",
      "[60, 70)     3\n",
      "dtype: int64\n"
     ]
    }
   ],
   "source": [
    "cuts3 = pd.cut(score3,bins,right=False)\n",
    "print(pd.value_counts(cuts3))"
   ]
  },
  {
   "cell_type": "code",
   "execution_count": 10,
   "metadata": {},
   "outputs": [
    {
     "name": "stdout",
     "output_type": "stream",
     "text": [
      "98\n"
     ]
    }
   ],
   "source": [
    "print(score1.max())"
   ]
  },
  {
   "cell_type": "code",
   "execution_count": 11,
   "metadata": {},
   "outputs": [
    {
     "name": "stdout",
     "output_type": "stream",
     "text": [
      "count    25.000000\n",
      "mean     76.560000\n",
      "std      13.829558\n",
      "min      51.000000\n",
      "25%      64.000000\n",
      "50%      80.000000\n",
      "75%      87.000000\n",
      "max      98.000000\n",
      "dtype: float64\n"
     ]
    }
   ],
   "source": [
    "print(score1.describe())"
   ]
  },
  {
   "cell_type": "code",
   "execution_count": 12,
   "metadata": {},
   "outputs": [
    {
     "name": "stdout",
     "output_type": "stream",
     "text": [
      "         literature  mathematics  english\n",
      "Allen            57           63       87\n",
      "Ben              69           74       88\n",
      "Bob              81           88       77\n",
      "Chris            64           89       91\n",
      "Charles          58           64       75\n",
      "David            90           91       84\n",
      "Dennis           65           78       53\n",
      "Edward           81           79       55\n",
      "Eric             77           99       62\n",
      "George           92           61       55\n",
      "Hellen           98           62       91\n",
      "Henry            74           91       94\n",
      "Jack             73           89       79\n",
      "Jerry            64           77       62\n",
      "Joe              85           83       74\n",
      "Johnson          87           55       78\n",
      "Kevin            61           73       85\n",
      "Leonard          51           68       91\n",
      "Mike             91           67       53\n",
      "Paul             95           67       65\n",
      "Roy              60           70       93\n",
      "Sam              98           89       84\n",
      "Tom              81           55       77\n",
      "Tyler            80           79       54\n",
      "William          82           93       50\n"
     ]
    }
   ],
   "source": [
    "total_score = pd.concat([score1,score2,score3],axis=1)\n",
    "total_score.rename(columns={0:'literature',1:'mathematics',2:'english'},inplace=True)\n",
    "print(total_score)"
   ]
  },
  {
   "cell_type": "code",
   "execution_count": 13,
   "metadata": {},
   "outputs": [],
   "source": [
    "def score_to_grade(score):\n",
    "    if score >= 90:\n",
    "        return 'A'\n",
    "    elif score >= 80:\n",
    "        return 'B'\n",
    "    elif score >= 70:\n",
    "        return 'C'\n",
    "    elif score >= 60:\n",
    "        return 'D'\n",
    "    else:\n",
    "        return 'F'"
   ]
  },
  {
   "cell_type": "code",
   "execution_count": 14,
   "metadata": {},
   "outputs": [
    {
     "name": "stdout",
     "output_type": "stream",
     "text": [
      "         literature  mathematics  english literature_grade mathematics_grade  \\\n",
      "Allen            57           63       87                F                 D   \n",
      "Ben              69           74       88                D                 C   \n",
      "Bob              81           88       77                B                 B   \n",
      "Chris            64           89       91                D                 B   \n",
      "Charles          58           64       75                F                 D   \n",
      "David            90           91       84                A                 A   \n",
      "Dennis           65           78       53                D                 C   \n",
      "Edward           81           79       55                B                 C   \n",
      "Eric             77           99       62                C                 A   \n",
      "George           92           61       55                A                 D   \n",
      "Hellen           98           62       91                A                 D   \n",
      "Henry            74           91       94                C                 A   \n",
      "Jack             73           89       79                C                 B   \n",
      "Jerry            64           77       62                D                 C   \n",
      "Joe              85           83       74                B                 B   \n",
      "Johnson          87           55       78                B                 F   \n",
      "Kevin            61           73       85                D                 C   \n",
      "Leonard          51           68       91                F                 D   \n",
      "Mike             91           67       53                A                 D   \n",
      "Paul             95           67       65                A                 D   \n",
      "Roy              60           70       93                D                 C   \n",
      "Sam              98           89       84                A                 B   \n",
      "Tom              81           55       77                B                 F   \n",
      "Tyler            80           79       54                B                 C   \n",
      "William          82           93       50                B                 A   \n",
      "\n",
      "        english_grade  \n",
      "Allen               B  \n",
      "Ben                 B  \n",
      "Bob                 C  \n",
      "Chris               A  \n",
      "Charles             C  \n",
      "David               B  \n",
      "Dennis              F  \n",
      "Edward              F  \n",
      "Eric                D  \n",
      "George              F  \n",
      "Hellen              A  \n",
      "Henry               A  \n",
      "Jack                C  \n",
      "Jerry               D  \n",
      "Joe                 C  \n",
      "Johnson             C  \n",
      "Kevin               B  \n",
      "Leonard             A  \n",
      "Mike                F  \n",
      "Paul                D  \n",
      "Roy                 A  \n",
      "Sam                 B  \n",
      "Tom                 C  \n",
      "Tyler               F  \n",
      "William             F  \n"
     ]
    }
   ],
   "source": [
    "total_score['literature_grade'] = total_score['literature'].map(score_to_grade)\n",
    "total_score['mathematics_grade'] = total_score['mathematics'].map(score_to_grade)\n",
    "total_score['english_grade'] = total_score['english'].map(score_to_grade)\n",
    "print(total_score)"
   ]
  },
  {
   "cell_type": "code",
   "execution_count": 15,
   "metadata": {},
   "outputs": [
    {
     "name": "stdout",
     "output_type": "stream",
     "text": [
      "         literature  mathematics  english literature_grade mathematics_grade  \\\n",
      "Allen            57           63       87                F                 D   \n",
      "Ben              69           74       88                D                 C   \n",
      "Bob              81           88       77                B                 B   \n",
      "Chris            64           89       91                D                 B   \n",
      "Charles          58           64       75                F                 D   \n",
      "David            90           91       84                A                 A   \n",
      "Dennis           65           78       53                D                 C   \n",
      "Edward           81           79       55                B                 C   \n",
      "Eric             77           99       62                C                 A   \n",
      "George           92           61       55                A                 D   \n",
      "Hellen           98           62       91                A                 D   \n",
      "Henry            74           91       94                C                 A   \n",
      "Jack             73           89       79                C                 B   \n",
      "Jerry            64           77       62                D                 C   \n",
      "Joe              85           83       74                B                 B   \n",
      "Johnson          87           55       78                B                 F   \n",
      "Kevin            61           73       85                D                 C   \n",
      "Leonard          51           68       91                F                 D   \n",
      "Mike             91           67       53                A                 D   \n",
      "Paul             95           67       65                A                 D   \n",
      "Roy              60           70       93                D                 C   \n",
      "Sam              98           89       84                A                 B   \n",
      "Tom              81           55       77                B                 F   \n",
      "Tyler            80           79       54                B                 C   \n",
      "William          82           93       50                B                 A   \n",
      "\n",
      "        english_grade  personal_total  personal_average  \n",
      "Allen               B             207         69.000000  \n",
      "Ben                 B             231         77.000000  \n",
      "Bob                 C             246         82.000000  \n",
      "Chris               A             244         81.333333  \n",
      "Charles             C             197         65.666667  \n",
      "David               B             265         88.333333  \n",
      "Dennis              F             196         65.333333  \n",
      "Edward              F             215         71.666667  \n",
      "Eric                D             238         79.333333  \n",
      "George              F             208         69.333333  \n",
      "Hellen              A             251         83.666667  \n",
      "Henry               A             259         86.333333  \n",
      "Jack                C             241         80.333333  \n",
      "Jerry               D             203         67.666667  \n",
      "Joe                 C             242         80.666667  \n",
      "Johnson             C             220         73.333333  \n",
      "Kevin               B             219         73.000000  \n",
      "Leonard             A             210         70.000000  \n",
      "Mike                F             211         70.333333  \n",
      "Paul                D             227         75.666667  \n",
      "Roy                 A             223         74.333333  \n",
      "Sam                 B             271         90.333333  \n",
      "Tom                 C             213         71.000000  \n",
      "Tyler               F             213         71.000000  \n",
      "William             F             225         75.000000  \n"
     ]
    }
   ],
   "source": [
    "total_score['personal_total'] = total_score.sum(axis=1)\n",
    "total_score['personal_average'] = total_score.iloc[:,:-1].mean(axis=1)\n",
    "print(total_score)"
   ]
  },
  {
   "cell_type": "code",
   "execution_count": 16,
   "metadata": {},
   "outputs": [
    {
     "name": "stdout",
     "output_type": "stream",
     "text": [
      "         literature literature_grade  mathematics mathematics_grade  english  \\\n",
      "Allen            57                F           63                 D       87   \n",
      "Ben              69                D           74                 C       88   \n",
      "Bob              81                B           88                 B       77   \n",
      "Chris            64                D           89                 B       91   \n",
      "Charles          58                F           64                 D       75   \n",
      "David            90                A           91                 A       84   \n",
      "Dennis           65                D           78                 C       53   \n",
      "Edward           81                B           79                 C       55   \n",
      "Eric             77                C           99                 A       62   \n",
      "George           92                A           61                 D       55   \n",
      "Hellen           98                A           62                 D       91   \n",
      "Henry            74                C           91                 A       94   \n",
      "Jack             73                C           89                 B       79   \n",
      "Jerry            64                D           77                 C       62   \n",
      "Joe              85                B           83                 B       74   \n",
      "Johnson          87                B           55                 F       78   \n",
      "Kevin            61                D           73                 C       85   \n",
      "Leonard          51                F           68                 D       91   \n",
      "Mike             91                A           67                 D       53   \n",
      "Paul             95                A           67                 D       65   \n",
      "Roy              60                D           70                 C       93   \n",
      "Sam              98                A           89                 B       84   \n",
      "Tom              81                B           55                 F       77   \n",
      "Tyler            80                B           79                 C       54   \n",
      "William          82                B           93                 A       50   \n",
      "\n",
      "        english_grade  personal_total  personal_average  \n",
      "Allen               B             207         69.000000  \n",
      "Ben                 B             231         77.000000  \n",
      "Bob                 C             246         82.000000  \n",
      "Chris               A             244         81.333333  \n",
      "Charles             C             197         65.666667  \n",
      "David               B             265         88.333333  \n",
      "Dennis              F             196         65.333333  \n",
      "Edward              F             215         71.666667  \n",
      "Eric                D             238         79.333333  \n",
      "George              F             208         69.333333  \n",
      "Hellen              A             251         83.666667  \n",
      "Henry               A             259         86.333333  \n",
      "Jack                C             241         80.333333  \n",
      "Jerry               D             203         67.666667  \n",
      "Joe                 C             242         80.666667  \n",
      "Johnson             C             220         73.333333  \n",
      "Kevin               B             219         73.000000  \n",
      "Leonard             A             210         70.000000  \n",
      "Mike                F             211         70.333333  \n",
      "Paul                D             227         75.666667  \n",
      "Roy                 A             223         74.333333  \n",
      "Sam                 B             271         90.333333  \n",
      "Tom                 C             213         71.000000  \n",
      "Tyler               F             213         71.000000  \n",
      "William             F             225         75.000000  \n"
     ]
    }
   ],
   "source": [
    "total_score = total_score.reindex(columns = ['literature','literature_grade','mathematics',\\\n",
    "                                             'mathematics_grade','english','english_grade',\\\n",
    "                                             'personal_total','personal_average'])\n",
    "print(total_score)"
   ]
  },
  {
   "cell_type": "code",
   "execution_count": 17,
   "metadata": {},
   "outputs": [
    {
     "name": "stdout",
     "output_type": "stream",
     "text": [
      "       literature  mathematics    english  personal_total  personal_average\n",
      "count   25.000000    25.000000  25.000000       25.000000         25.000000\n",
      "mean    76.560000    76.160000  74.280000      227.000000         75.666667\n",
      "std     13.829558    12.717049  14.889929       21.015867          7.005289\n",
      "min     51.000000    55.000000  50.000000      196.000000         65.333333\n",
      "25%     64.000000    67.000000  62.000000      211.000000         70.333333\n",
      "50%     80.000000    77.000000  77.000000      223.000000         74.333333\n",
      "75%     87.000000    89.000000  87.000000      242.000000         80.666667\n",
      "max     98.000000    99.000000  94.000000      271.000000         90.333333\n"
     ]
    }
   ],
   "source": [
    "print(total_score.describe())"
   ]
  },
  {
   "cell_type": "code",
   "execution_count": 18,
   "metadata": {},
   "outputs": [
    {
     "name": "stdout",
     "output_type": "stream",
     "text": [
      "        literature       mathematics       english      \n",
      "             score grade       score grade   score grade\n",
      "Allen           57     F          63     D      87     B\n",
      "Ben             69     D          74     C      88     B\n",
      "Bob             81     B          88     B      77     C\n",
      "Chris           64     D          89     B      91     A\n",
      "Charles         58     F          64     D      75     C\n",
      "David           90     A          91     A      84     B\n",
      "Dennis          65     D          78     C      53     F\n",
      "Edward          81     B          79     C      55     F\n",
      "Eric            77     C          99     A      62     D\n",
      "George          92     A          61     D      55     F\n",
      "Hellen          98     A          62     D      91     A\n",
      "Henry           74     C          91     A      94     A\n",
      "Jack            73     C          89     B      79     C\n",
      "Jerry           64     D          77     C      62     D\n",
      "Joe             85     B          83     B      74     C\n",
      "Johnson         87     B          55     F      78     C\n",
      "Kevin           61     D          73     C      85     B\n",
      "Leonard         51     F          68     D      91     A\n",
      "Mike            91     A          67     D      53     F\n",
      "Paul            95     A          67     D      65     D\n",
      "Roy             60     D          70     C      93     A\n",
      "Sam             98     A          89     B      84     B\n",
      "Tom             81     B          55     F      77     C\n",
      "Tyler           80     B          79     C      54     F\n",
      "William         82     B          93     A      50     F\n"
     ]
    }
   ],
   "source": [
    "score_level_data = total_score.loc[:,'literature':'english_grade']\n",
    "score_level_data.columns = [['literature','literature','mathematics','mathematics',\\\n",
    "                             'english','english'],['score','grade','score','grade','score','grade']]\n",
    "print(score_level_data)"
   ]
  },
  {
   "cell_type": "code",
   "execution_count": 19,
   "metadata": {},
   "outputs": [
    {
     "name": "stdout",
     "output_type": "stream",
     "text": [
      "        literature       mathematics       english       personal_total  \\\n",
      "             score grade       score grade   score grade                  \n",
      "Allen           57     F          63     D      87     B            207   \n",
      "Ben             69     D          74     C      88     B            231   \n",
      "Bob             81     B          88     B      77     C            246   \n",
      "Chris           64     D          89     B      91     A            244   \n",
      "Charles         58     F          64     D      75     C            197   \n",
      "David           90     A          91     A      84     B            265   \n",
      "Dennis          65     D          78     C      53     F            196   \n",
      "Edward          81     B          79     C      55     F            215   \n",
      "Eric            77     C          99     A      62     D            238   \n",
      "George          92     A          61     D      55     F            208   \n",
      "Hellen          98     A          62     D      91     A            251   \n",
      "Henry           74     C          91     A      94     A            259   \n",
      "Jack            73     C          89     B      79     C            241   \n",
      "Jerry           64     D          77     C      62     D            203   \n",
      "Joe             85     B          83     B      74     C            242   \n",
      "Johnson         87     B          55     F      78     C            220   \n",
      "Kevin           61     D          73     C      85     B            219   \n",
      "Leonard         51     F          68     D      91     A            210   \n",
      "Mike            91     A          67     D      53     F            211   \n",
      "Paul            95     A          67     D      65     D            227   \n",
      "Roy             60     D          70     C      93     A            223   \n",
      "Sam             98     A          89     B      84     B            271   \n",
      "Tom             81     B          55     F      77     C            213   \n",
      "Tyler           80     B          79     C      54     F            213   \n",
      "William         82     B          93     A      50     F            225   \n",
      "\n",
      "        personal_average  \n",
      "                          \n",
      "Allen          69.000000  \n",
      "Ben            77.000000  \n",
      "Bob            82.000000  \n",
      "Chris          81.333333  \n",
      "Charles        65.666667  \n",
      "David          88.333333  \n",
      "Dennis         65.333333  \n",
      "Edward         71.666667  \n",
      "Eric           79.333333  \n",
      "George         69.333333  \n",
      "Hellen         83.666667  \n",
      "Henry          86.333333  \n",
      "Jack           80.333333  \n",
      "Jerry          67.666667  \n",
      "Joe            80.666667  \n",
      "Johnson        73.333333  \n",
      "Kevin          73.000000  \n",
      "Leonard        70.000000  \n",
      "Mike           70.333333  \n",
      "Paul           75.666667  \n",
      "Roy            74.333333  \n",
      "Sam            90.333333  \n",
      "Tom            71.000000  \n",
      "Tyler          71.000000  \n",
      "William        75.000000  \n"
     ]
    }
   ],
   "source": [
    "score_level_data['personal_total'] = score_level_data.sum(axis = 1)\n",
    "score_level_data['personal_average'] = score_level_data.iloc[:,:-1].mean(axis = 1)\n",
    "print(score_level_data)"
   ]
  },
  {
   "cell_type": "code",
   "execution_count": 20,
   "metadata": {},
   "outputs": [
    {
     "name": "stdout",
     "output_type": "stream",
     "text": [
      "        literature       mathematics       english       personal_total  \\\n",
      "             score grade       score grade   score grade                  \n",
      "Sam             98     A          89     B      84     B            271   \n",
      "David           90     A          91     A      84     B            265   \n",
      "Henry           74     C          91     A      94     A            259   \n",
      "Hellen          98     A          62     D      91     A            251   \n",
      "Bob             81     B          88     B      77     C            246   \n",
      "Chris           64     D          89     B      91     A            244   \n",
      "Joe             85     B          83     B      74     C            242   \n",
      "Jack            73     C          89     B      79     C            241   \n",
      "Eric            77     C          99     A      62     D            238   \n",
      "Ben             69     D          74     C      88     B            231   \n",
      "Paul            95     A          67     D      65     D            227   \n",
      "William         82     B          93     A      50     F            225   \n",
      "Roy             60     D          70     C      93     A            223   \n",
      "Johnson         87     B          55     F      78     C            220   \n",
      "Kevin           61     D          73     C      85     B            219   \n",
      "Edward          81     B          79     C      55     F            215   \n",
      "Tom             81     B          55     F      77     C            213   \n",
      "Tyler           80     B          79     C      54     F            213   \n",
      "Mike            91     A          67     D      53     F            211   \n",
      "Leonard         51     F          68     D      91     A            210   \n",
      "George          92     A          61     D      55     F            208   \n",
      "Allen           57     F          63     D      87     B            207   \n",
      "Jerry           64     D          77     C      62     D            203   \n",
      "Charles         58     F          64     D      75     C            197   \n",
      "Dennis          65     D          78     C      53     F            196   \n",
      "\n",
      "        personal_average  \n",
      "                          \n",
      "Sam            90.333333  \n",
      "David          88.333333  \n",
      "Henry          86.333333  \n",
      "Hellen         83.666667  \n",
      "Bob            82.000000  \n",
      "Chris          81.333333  \n",
      "Joe            80.666667  \n",
      "Jack           80.333333  \n",
      "Eric           79.333333  \n",
      "Ben            77.000000  \n",
      "Paul           75.666667  \n",
      "William        75.000000  \n",
      "Roy            74.333333  \n",
      "Johnson        73.333333  \n",
      "Kevin          73.000000  \n",
      "Edward         71.666667  \n",
      "Tom            71.000000  \n",
      "Tyler          71.000000  \n",
      "Mike           70.333333  \n",
      "Leonard        70.000000  \n",
      "George         69.333333  \n",
      "Allen          69.000000  \n",
      "Jerry          67.666667  \n",
      "Charles        65.666667  \n",
      "Dennis         65.333333  \n"
     ]
    }
   ],
   "source": [
    "score_level_data = score_level_data.sort_values(by = 'personal_total',ascending=False)\n",
    "print(score_level_data)"
   ]
  },
  {
   "cell_type": "code",
   "execution_count": 21,
   "metadata": {},
   "outputs": [
    {
     "name": "stdout",
     "output_type": "stream",
     "text": [
      "      literature mathematics    english personal_total personal_average\n",
      "           score       score      score                                \n",
      "count  25.000000   25.000000  25.000000      25.000000        25.000000\n",
      "mean   76.560000   76.160000  74.280000     227.000000        75.666667\n",
      "std    13.829558   12.717049  14.889929      21.015867         7.005289\n",
      "min    51.000000   55.000000  50.000000     196.000000        65.333333\n",
      "25%    64.000000   67.000000  62.000000     211.000000        70.333333\n",
      "50%    80.000000   77.000000  77.000000     223.000000        74.333333\n",
      "75%    87.000000   89.000000  87.000000     242.000000        80.666667\n",
      "max    98.000000   99.000000  94.000000     271.000000        90.333333\n"
     ]
    }
   ],
   "source": [
    "print(score_level_data.describe())"
   ]
  },
  {
   "cell_type": "code",
   "execution_count": 22,
   "metadata": {},
   "outputs": [],
   "source": [
    "score_level_data.to_csv('/Users/apple/Desktop/score_level_data.csv')"
   ]
  },
  {
   "cell_type": "code",
   "execution_count": null,
   "metadata": {},
   "outputs": [],
   "source": []
  }
 ],
 "metadata": {
  "kernelspec": {
   "display_name": "Python 3",
   "language": "python",
   "name": "python3"
  },
  "language_info": {
   "codemirror_mode": {
    "name": "ipython",
    "version": 3
   },
   "file_extension": ".py",
   "mimetype": "text/x-python",
   "name": "python",
   "nbconvert_exporter": "python",
   "pygments_lexer": "ipython3",
   "version": "3.7.6"
  }
 },
 "nbformat": 4,
 "nbformat_minor": 4
}
