{
 "cells": [
  {
   "cell_type": "code",
   "execution_count": 1,
   "metadata": {},
   "outputs": [],
   "source": [
    "import pandas as pd"
   ]
  },
  {
   "cell_type": "code",
   "execution_count": 2,
   "metadata": {},
   "outputs": [],
   "source": [
    "df1 = pd.read_csv('/Users/apple/Desktop/analysis-master/Pandas_Introduction/NBA/nba16-17.csv')"
   ]
  },
  {
   "cell_type": "code",
   "execution_count": 3,
   "metadata": {},
   "outputs": [
    {
     "name": "stdout",
     "output_type": "stream",
     "text": [
      "0     0\n",
      "1     0\n",
      "2     0\n",
      "3     0\n",
      "4     0\n",
      "5     0\n",
      "6     0\n",
      "7     0\n",
      "8     0\n",
      "9     0\n",
      "10    0\n",
      "11    0\n",
      "12    0\n",
      "13    0\n",
      "14    0\n",
      "15    0\n",
      "16    0\n",
      "17    0\n",
      "18    0\n",
      "19    0\n",
      "20    0\n",
      "21    0\n",
      "22    0\n",
      "23    0\n",
      "24    0\n",
      "25    0\n",
      "26    0\n",
      "27    0\n",
      "28    0\n",
      "29    0\n",
      "30    1\n",
      "dtype: int64\n"
     ]
    }
   ],
   "source": [
    "# 检查缺失值\n",
    "print(df1.isnull().sum(axis = 1))\n",
    "df1 = df1.dropna() # 删除缺失值行"
   ]
  },
  {
   "cell_type": "code",
   "execution_count": 4,
   "metadata": {},
   "outputs": [
    {
     "name": "stdout",
     "output_type": "stream",
     "text": [
      "Int64Index([ 0,  1,  2,  3,  4,  5,  6,  7,  8,  9, 10, 11, 12, 13, 14, 15, 16,\n",
      "            17, 18, 19, 20, 21, 22, 23, 24, 25, 26, 27, 28, 29],\n",
      "           dtype='int64')\n",
      "Index(['Rk', 'Team', 'G', 'MP', 'FG', 'FGA', 'FG%', '3P', '3PA', '3P%', '2P',\n",
      "       '2PA', '2P%', 'FT', 'FTA', 'FT%', 'ORB', 'DRB', 'TRB', 'AST', 'STL',\n",
      "       'BLK', 'TOV', 'PF', 'PTS'],\n",
      "      dtype='object')\n",
      "<class 'pandas.core.frame.DataFrame'>\n",
      "Int64Index: 30 entries, 0 to 29\n",
      "Data columns (total 25 columns):\n",
      " #   Column  Non-Null Count  Dtype  \n",
      "---  ------  --------------  -----  \n",
      " 0   Rk      30 non-null     float64\n",
      " 1   Team    30 non-null     object \n",
      " 2   G       30 non-null     int64  \n",
      " 3   MP      30 non-null     float64\n",
      " 4   FG      30 non-null     float64\n",
      " 5   FGA     30 non-null     float64\n",
      " 6   FG%     30 non-null     float64\n",
      " 7   3P      30 non-null     float64\n",
      " 8   3PA     30 non-null     float64\n",
      " 9   3P%     30 non-null     float64\n",
      " 10  2P      30 non-null     float64\n",
      " 11  2PA     30 non-null     float64\n",
      " 12  2P%     30 non-null     float64\n",
      " 13  FT      30 non-null     float64\n",
      " 14  FTA     30 non-null     float64\n",
      " 15  FT%     30 non-null     float64\n",
      " 16  ORB     30 non-null     float64\n",
      " 17  DRB     30 non-null     float64\n",
      " 18  TRB     30 non-null     float64\n",
      " 19  AST     30 non-null     float64\n",
      " 20  STL     30 non-null     float64\n",
      " 21  BLK     30 non-null     float64\n",
      " 22  TOV     30 non-null     float64\n",
      " 23  PF      30 non-null     float64\n",
      " 24  PTS     30 non-null     float64\n",
      "dtypes: float64(23), int64(1), object(1)\n",
      "memory usage: 6.1+ KB\n",
      "None\n",
      "              Rk     G          MP         FG        FGA        FG%  \\\n",
      "count  30.000000  30.0   30.000000  30.000000  30.000000  30.000000   \n",
      "mean   15.500000  82.0  241.600000  39.050000  85.416667   0.457200   \n",
      "std     8.803408   0.0    0.656007   1.425809   2.229440   0.013659   \n",
      "min     1.000000  82.0  240.300000  36.200000  79.500000   0.435000   \n",
      "25%     8.250000  82.0  241.200000  38.150000  84.400000   0.447500   \n",
      "50%    15.500000  82.0  241.500000  39.250000  85.350000   0.454500   \n",
      "75%    22.750000  82.0  242.100000  39.575000  87.100000   0.466750   \n",
      "max    30.000000  82.0  243.000000  43.100000  88.800000   0.495000   \n",
      "\n",
      "              3P        3PA        3P%         2P  ...        FT%        ORB  \\\n",
      "count  30.000000  30.000000  30.000000  30.000000  ...  30.000000  30.000000   \n",
      "mean    9.650000  27.003333   0.357167  29.390000  ...   0.771800  10.133333   \n",
      "std     1.619653   4.116450   0.018031   1.962291  ...   0.027767   1.231297   \n",
      "min     7.300000  21.000000   0.327000  25.500000  ...   0.706000   7.900000   \n",
      "25%     8.650000  24.000000   0.342250  27.550000  ...   0.748500   9.025000   \n",
      "50%     9.300000  26.100000   0.356000  29.750000  ...   0.775500  10.050000   \n",
      "75%    10.375000  28.750000   0.372000  30.900000  ...   0.794000  11.050000   \n",
      "max    14.400000  40.300000   0.391000  32.400000  ...   0.815000  12.200000   \n",
      "\n",
      "             DRB        TRB        AST        STL       BLK        TOV  \\\n",
      "count  30.000000  30.000000  30.000000  30.000000  30.00000  30.000000   \n",
      "mean   33.376667  43.520000  22.626667   7.710000   4.74000  13.960000   \n",
      "std     1.177866   1.716532   2.216231   0.656716   0.70886   1.270514   \n",
      "min    30.700000  38.600000  18.500000   6.600000   3.70000  11.500000   \n",
      "25%    32.675000  42.825000  21.125000   7.125000   4.12500  13.300000   \n",
      "50%    33.400000  43.600000  22.500000   7.800000   4.80000  13.750000   \n",
      "75%    34.325000  44.375000  23.775000   8.200000   5.00000  14.950000   \n",
      "max    35.100000  46.600000  30.400000   9.600000   6.80000  16.700000   \n",
      "\n",
      "              PF         PTS  \n",
      "count  30.000000   30.000000  \n",
      "mean   19.893333  105.590000  \n",
      "std     1.635371    4.128901  \n",
      "min    16.600000   97.900000  \n",
      "25%    18.875000  102.975000  \n",
      "50%    20.000000  105.000000  \n",
      "75%    20.775000  107.850000  \n",
      "max    24.800000  115.900000  \n",
      "\n",
      "[8 rows x 24 columns]\n"
     ]
    }
   ],
   "source": [
    "# 表的基本描述\n",
    "print(df1.index)\n",
    "print(df1.columns)\n",
    "print(df1.info())\n",
    "print(df1.describe())"
   ]
  },
  {
   "cell_type": "code",
   "execution_count": 6,
   "metadata": {},
   "outputs": [
    {
     "name": "stdout",
     "output_type": "stream",
     "text": [
      "{'MP': {'best_team': 'Portland Trail Blazers*', 'best_score': 243.0, 'worst_team': 'Los Angeles Lakers', 'worst_score': 240.3}, 'FG': {'best_team': 'Golden State Warriors*', 'best_score': 43.1, 'worst_team': 'Dallas Mavericks', 'worst_score': 36.2}, 'FGA': {'best_team': 'Detroit Pistons', 'best_score': 88.8, 'worst_team': 'Utah Jazz*', 'worst_score': 79.5}, 'FG%': {'best_team': 'Golden State Warriors*', 'best_score': 0.495, 'worst_team': 'Memphis Grizzlies*', 'worst_score': 0.435}, '3P': {'best_team': 'Houston Rockets*', 'best_score': 14.4, 'worst_team': 'Minnesota Timberwolves', 'worst_score': 7.3}, '3PA': {'best_team': 'Houston Rockets*', 'best_score': 40.3, 'worst_team': 'Minnesota Timberwolves', 'worst_score': 21.0}, '3P%': {'best_team': 'San Antonio Spurs*', 'best_score': 0.391, 'worst_team': 'Oklahoma City Thunder*', 'worst_score': 0.327}, '2P': {'best_team': 'Phoenix Suns', 'best_score': 32.4, 'worst_team': 'Dallas Mavericks', 'worst_score': 25.5}, '2PA': {'best_team': 'Phoenix Suns', 'best_score': 65.9, 'worst_team': 'Houston Rockets*', 'worst_score': 46.9}, '2P%': {'best_team': 'Golden State Warriors*', 'best_score': 0.557, 'worst_team': 'Memphis Grizzlies*', 'worst_score': 0.473}, 'FT': {'best_team': 'Phoenix Suns', 'best_score': 20.4, 'worst_team': 'Detroit Pistons', 'worst_score': 13.9}, 'FTA': {'best_team': 'Houston Rockets*', 'best_score': 26.5, 'worst_team': 'Dallas Mavericks', 'worst_score': 18.5}, 'FT%': {'best_team': 'Charlotte Hornets', 'best_score': 0.815, 'worst_team': 'Miami Heat', 'worst_score': 0.706}, 'ORB': {'best_team': 'Oklahoma City Thunder*', 'best_score': 12.2, 'worst_team': 'Dallas Mavericks', 'worst_score': 7.9}, 'DRB': {'best_team': 'New Orleans Pelicans', 'best_score': 35.1, 'worst_team': 'Dallas Mavericks', 'worst_score': 30.7}, 'TRB': {'best_team': 'Oklahoma City Thunder*', 'best_score': 46.6, 'worst_team': 'Dallas Mavericks', 'worst_score': 38.6}, 'AST': {'best_team': 'Golden State Warriors*', 'best_score': 30.4, 'worst_team': 'Toronto Raptors*', 'worst_score': 18.5}, 'STL': {'best_team': 'Golden State Warriors*', 'best_score': 9.6, 'worst_team': 'Cleveland Cavaliers*', 'worst_score': 6.6}, 'BLK': {'best_team': 'Golden State Warriors*', 'best_score': 6.8, 'worst_team': 'Dallas Mavericks', 'worst_score': 3.7}, 'TOV': {'best_team': 'Philadelphia 76ers', 'best_score': 16.7, 'worst_team': 'Charlotte Hornets', 'worst_score': 11.5}, 'PF': {'best_team': 'Phoenix Suns', 'best_score': 24.8, 'worst_team': 'Charlotte Hornets', 'worst_score': 16.6}, 'PTS': {'best_team': 'Golden State Warriors*', 'best_score': 115.9, 'worst_team': 'Dallas Mavericks', 'worst_score': 97.9}}\n"
     ]
    }
   ],
   "source": [
    "# 按照这其中每一项统计项，\n",
    "# 将联盟球队的单项数据从高到底排列，\n",
    "# 并将最高球队和最低球队的球队名以及它们在这项统计上的数据记录到一个字典结构中。\n",
    "best_and_worst = {}\n",
    "for i in df1.columns[3:]:\n",
    "    df1 = df1.sort_values(by = i,ascending=False)\n",
    "    best_team_index = df1.index[0]\n",
    "    worst_team_index = df1.index[-1]\n",
    "    best_team = df1.loc[best_team_index,'Team']\n",
    "    best_score = df1.loc[best_team_index,i]\n",
    "    worst_team = df1.loc[worst_team_index,'Team']\n",
    "    worst_score = df1.loc[worst_team_index,i]\n",
    "    best_and_worst[i] = {'best_team':best_team,'best_score':best_score,\\\n",
    "                         'worst_team':worst_team,'worst_score':worst_score}\n",
    "print(best_and_worst)"
   ]
  },
  {
   "cell_type": "code",
   "execution_count": 7,
   "metadata": {},
   "outputs": [
    {
     "name": "stdout",
     "output_type": "stream",
     "text": [
      "                   best_team best_score              worst_team worst_score\n",
      "MP   Portland Trail Blazers*        243      Los Angeles Lakers       240.3\n",
      "FG    Golden State Warriors*       43.1        Dallas Mavericks        36.2\n",
      "FGA          Detroit Pistons       88.8              Utah Jazz*        79.5\n",
      "FG%   Golden State Warriors*      0.495      Memphis Grizzlies*       0.435\n",
      "3P          Houston Rockets*       14.4  Minnesota Timberwolves         7.3\n",
      "3PA         Houston Rockets*       40.3  Minnesota Timberwolves          21\n",
      "3P%       San Antonio Spurs*      0.391  Oklahoma City Thunder*       0.327\n",
      "2P              Phoenix Suns       32.4        Dallas Mavericks        25.5\n",
      "2PA             Phoenix Suns       65.9        Houston Rockets*        46.9\n",
      "2P%   Golden State Warriors*      0.557      Memphis Grizzlies*       0.473\n",
      "FT              Phoenix Suns       20.4         Detroit Pistons        13.9\n",
      "FTA         Houston Rockets*       26.5        Dallas Mavericks        18.5\n",
      "FT%        Charlotte Hornets      0.815              Miami Heat       0.706\n",
      "ORB   Oklahoma City Thunder*       12.2        Dallas Mavericks         7.9\n",
      "DRB     New Orleans Pelicans       35.1        Dallas Mavericks        30.7\n",
      "TRB   Oklahoma City Thunder*       46.6        Dallas Mavericks        38.6\n",
      "AST   Golden State Warriors*       30.4        Toronto Raptors*        18.5\n",
      "STL   Golden State Warriors*        9.6    Cleveland Cavaliers*         6.6\n",
      "BLK   Golden State Warriors*        6.8        Dallas Mavericks         3.7\n",
      "TOV       Philadelphia 76ers       16.7       Charlotte Hornets        11.5\n",
      "PF              Phoenix Suns       24.8       Charlotte Hornets        16.6\n",
      "PTS   Golden State Warriors*      115.9        Dallas Mavericks        97.9\n"
     ]
    }
   ],
   "source": [
    "# 将 best_and_worst 字典形式，转换成 DataFrame\n",
    "best_and_worst = pd.DataFrame(best_and_worst).T\n",
    "print(best_and_worst)"
   ]
  },
  {
   "cell_type": "code",
   "execution_count": 9,
   "metadata": {},
   "outputs": [
    {
     "name": "stdout",
     "output_type": "stream",
     "text": [
      "Golden State Warriors*     7\n",
      "Phoenix Suns               4\n",
      "Houston Rockets*           3\n",
      "Oklahoma City Thunder*     2\n",
      "New Orleans Pelicans       1\n",
      "Detroit Pistons            1\n",
      "Charlotte Hornets          1\n",
      "Portland Trail Blazers*    1\n",
      "Philadelphia 76ers         1\n",
      "San Antonio Spurs*         1\n",
      "Name: best_team, dtype: int64\n",
      "------------------------------\n",
      "Dallas Mavericks          8\n",
      "Minnesota Timberwolves    2\n",
      "Charlotte Hornets         2\n",
      "Memphis Grizzlies*        2\n",
      "Detroit Pistons           1\n",
      "Oklahoma City Thunder*    1\n",
      "Houston Rockets*          1\n",
      "Toronto Raptors*          1\n",
      "Los Angeles Lakers        1\n",
      "Utah Jazz*                1\n",
      "Miami Heat                1\n",
      "Cleveland Cavaliers*      1\n",
      "Name: worst_team, dtype: int64\n",
      "联盟中单项第一次数最多的球队是 Golden State Warriors*，有 7 项为第一\n",
      "联盟中单项倒数第一次数最多的球队是 Dallas Mavericks，有 8 项为倒一\n"
     ]
    }
   ],
   "source": [
    "# 应用DataFrame的value_counts()\n",
    "# 统计单个数据出现的次数，\n",
    "# 通过这个方法来获取单项第一最多的和倒数第一最多的球队的信息\n",
    "single_statistics_best = best_and_worst['best_team'].value_counts()\n",
    "print(single_statistics_best)\n",
    "print('-'*30)\n",
    "single_statistics_worst = best_and_worst['worst_team'].value_counts()\n",
    "print(single_statistics_worst)\n",
    "print('联盟中单项第一次数最多的球队是 %s，有 %d 项为第一' % (single_statistics_best.index[0],single_statistics_best[0]))\n",
    "print('联盟中单项倒数第一次数最多的球队是 %s，有 %d 项为倒一' % (single_statistics_worst.index[0],single_statistics_worst[0]))"
   ]
  },
  {
   "cell_type": "code",
   "execution_count": 10,
   "metadata": {},
   "outputs": [
    {
     "name": "stdout",
     "output_type": "stream",
     "text": [
      "      Rk                    Team   G     MP    FG   FGA    FG%    3P   3PA  \\\n",
      "1    2.0        Houston Rockets*  82  241.2  40.3  87.2  0.462  14.4  40.3   \n",
      "3    4.0    Cleveland Cavaliers*  82  242.4  39.9  84.9  0.470  13.0  33.9   \n",
      "6    7.0         Boston Celtics*  82  240.9  38.6  85.1  0.454  12.0  33.4   \n",
      "11  12.0           Brooklyn Nets  82  240.9  37.8  85.2  0.444  10.7  31.6   \n",
      "0    1.0  Golden State Warriors*  82  241.2  43.1  87.1  0.495  12.0  31.2   \n",
      "\n",
      "      3P%  ...    FT%   ORB   DRB   TRB   AST  STL  BLK   TOV    PF    PTS  \n",
      "1   0.357  ...  0.766  10.9  33.5  44.4  25.2  8.2  4.3  15.1  19.9  115.3  \n",
      "3   0.384  ...  0.748   9.3  34.4  43.7  22.7  6.6  4.0  13.7  18.1  110.3  \n",
      "6   0.359  ...  0.807   9.1  32.9  42.0  25.2  7.5  4.1  13.3  20.6  108.0  \n",
      "11  0.338  ...  0.788   8.8  35.1  43.9  21.4  7.2  4.7  16.5  21.0  105.8  \n",
      "0   0.383  ...  0.788   9.4  35.0  44.4  30.4  9.6  6.8  14.8  19.3  115.9  \n",
      "\n",
      "[5 rows x 25 columns]\n",
      "------------------------------\n",
      "                      Team    3P   3PA    3P%\n",
      "1         Houston Rockets*  14.4  40.3  0.357\n",
      "3     Cleveland Cavaliers*    13  33.9  0.384\n",
      "6          Boston Celtics*    12  33.4  0.359\n",
      "11           Brooklyn Nets  10.7  31.6  0.338\n",
      "0   Golden State Warriors*    12  31.2  0.383\n"
     ]
    }
   ],
   "source": [
    "# 对三分球的投入情况，进行分析 \n",
    "# 首先将所有球队按照单场的三分球出手数从高到底做一个排序，\n",
    "# 之后取前5名以及后5名的球队名称，三分球出手数，三分球命中数，三分球命中数分别组合成为两个新的DataFrame。\n",
    "# 先为前5名情况：\n",
    "top5_of_3PA = df1.sort_values(by = '3PA',ascending=False).head()\n",
    "print(top5_of_3PA)\n",
    "print('-'*30)\n",
    "best_3PA = pd.DataFrame([top5_of_3PA['Team'],top5_of_3PA['3P'],top5_of_3PA['3PA'],top5_of_3PA['3P%']]).T\n",
    "print(best_3PA)"
   ]
  },
  {
   "cell_type": "code",
   "execution_count": 12,
   "metadata": {},
   "outputs": [
    {
     "name": "stdout",
     "output_type": "stream",
     "text": [
      "      Rk                    Team   G     MP    FG   FGA    FG%   3P   3PA  \\\n",
      "12  13.0  Minnesota Timberwolves  82  241.5  39.5  84.4  0.467  7.3  21.0   \n",
      "22  23.0          Chicago Bulls*  82  241.2  38.6  87.1  0.444  7.6  22.3   \n",
      "8    9.0            Phoenix Suns  82  241.8  39.9  88.5  0.450  7.5  22.6   \n",
      "14  15.0         Indiana Pacers*  82  242.1  39.3  84.5  0.465  8.6  23.0   \n",
      "25  26.0         Detroit Pistons  82  241.5  39.9  88.8  0.449  7.7  23.4   \n",
      "\n",
      "      3P%  ...    FT%   ORB   DRB   TRB   AST  STL  BLK   TOV    PF    PTS  \n",
      "12  0.349  ...  0.799  11.4  31.0  42.4  23.7  8.0  4.5  14.0  20.1  105.6  \n",
      "22  0.340  ...  0.798  12.2  34.1  46.3  22.6  7.8  4.8  13.6  17.7  102.9  \n",
      "8   0.332  ...  0.776  11.9  33.1  45.0  19.6  8.2  4.9  15.4  24.8  107.7  \n",
      "14  0.376  ...  0.810   9.0  33.0  42.0  22.5  8.2  5.0  13.8  19.5  105.1  \n",
      "25  0.330  ...  0.719  11.1  34.6  45.7  21.1  7.0  3.8  11.9  17.9  101.3  \n",
      "\n",
      "[5 rows x 25 columns]\n",
      "------------------------------\n",
      "                      Team   3P   3PA    3P%\n",
      "12  Minnesota Timberwolves  7.3    21  0.349\n",
      "22          Chicago Bulls*  7.6  22.3   0.34\n",
      "8             Phoenix Suns  7.5  22.6  0.332\n",
      "14         Indiana Pacers*  8.6    23  0.376\n",
      "25         Detroit Pistons  7.7  23.4   0.33\n"
     ]
    }
   ],
   "source": [
    "# 以下为后5名情况(倒序)：\n",
    "last5_of_3PA = df1.sort_values(by = '3PA').head(5)\n",
    "print(last5_of_3PA)\n",
    "print('-'*30)\n",
    "worst_3PA = pd.DataFrame([last5_of_3PA['Team'],last5_of_3PA['3P'],last5_of_3PA['3PA'],last5_of_3PA['3P%']]).T\n",
    "print(worst_3PA)"
   ]
  },
  {
   "cell_type": "code",
   "execution_count": 13,
   "metadata": {},
   "outputs": [
    {
     "name": "stdout",
     "output_type": "stream",
     "text": [
      "58.099999999999966\n"
     ]
    }
   ],
   "source": [
    "# 3分球高出手球队 与 低出手球队（各5只）在 3分球上总出手的差值\n",
    "difference_on_3PA = best_3PA['3PA'].sum() - worst_3PA['3PA'].sum()\n",
    "print(difference_on_3PA)"
   ]
  },
  {
   "cell_type": "code",
   "execution_count": 14,
   "metadata": {},
   "outputs": [
    {
     "name": "stdout",
     "output_type": "stream",
     "text": [
      "23.39999999999999\n"
     ]
    }
   ],
   "source": [
    "# 3分球高出手球队 与 低出手球队（各5只）在 3分球上命中数的差值\n",
    "difference_on_3P = best_3PA['3P'].sum() - worst_3PA['3P'].sum()\n",
    "print(difference_on_3P)"
   ]
  },
  {
   "cell_type": "code",
   "execution_count": 15,
   "metadata": {},
   "outputs": [
    {
     "name": "stdout",
     "output_type": "stream",
     "text": [
      "14.039999999999994\n"
     ]
    }
   ],
   "source": [
    "# 平均每只3分球高出手球队与 每只低出手球队 在 3分球上得分的差值\n",
    "difference_on_points_due_to_3P = difference_on_3P / 5 * 3\n",
    "print(difference_on_points_due_to_3P)"
   ]
  },
  {
   "cell_type": "code",
   "execution_count": 16,
   "metadata": {},
   "outputs": [
    {
     "name": "stdout",
     "output_type": "stream",
     "text": [
      "0.018799999999999983\n"
     ]
    }
   ],
   "source": [
    "# 3分球高出手球队与 低出手球队（各5只）平均3分球命中率的差值\n",
    "difference_on_3P_hit_rate = best_3PA['3P%'].mean() - worst_3PA['3P%'].mean()\n",
    "print(difference_on_3P_hit_rate)"
   ]
  },
  {
   "cell_type": "code",
   "execution_count": 17,
   "metadata": {},
   "outputs": [
    {
     "name": "stdout",
     "output_type": "stream",
     "text": [
      "单场多出手了58记3分球, 多命中了23记3分球\n",
      "单场平均每支爱投3分球的球队在3分球上多得14.04分\n",
      "两种球队在3分球命中率上的差值是1.88%\n"
     ]
    }
   ],
   "source": [
    "# 3分球 情况分析，汇总\n",
    "print(\"单场多出手了%d记3分球, 多命中了%d记3分球\" % (difference_on_3PA,difference_on_3P))\n",
    "print(\"单场平均每支爱投3分球的球队在3分球上多得%.2f分\" % difference_on_points_due_to_3P)\n",
    "print(\"两种球队在3分球命中率上的差值是%.2f%%\" % (difference_on_3P_hit_rate * 100))"
   ]
  },
  {
   "cell_type": "code",
   "execution_count": null,
   "metadata": {},
   "outputs": [],
   "source": []
  }
 ],
 "metadata": {
  "kernelspec": {
   "display_name": "Python 3",
   "language": "python",
   "name": "python3"
  },
  "language_info": {
   "codemirror_mode": {
    "name": "ipython",
    "version": 3
   },
   "file_extension": ".py",
   "mimetype": "text/x-python",
   "name": "python",
   "nbconvert_exporter": "python",
   "pygments_lexer": "ipython3",
   "version": "3.7.6"
  }
 },
 "nbformat": 4,
 "nbformat_minor": 4
}
